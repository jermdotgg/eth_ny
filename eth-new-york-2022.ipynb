{
 "cells": [
  {
   "cell_type": "code",
   "execution_count": 1,
   "metadata": {},
   "outputs": [
    {
     "name": "stdout",
     "output_type": "stream",
     "text": [
      "hello eth new york 2022!\n"
     ]
    }
   ],
   "source": [
    "print (\"hello eth new york 2022!\")"
   ]
  },
  {
   "cell_type": "markdown",
   "metadata": {},
   "source": [
    "Innovation Ecosystem Module"
   ]
  },
  {
   "cell_type": "markdown",
   "metadata": {},
   "source": [
    "Liquidity Module"
   ]
  },
  {
   "cell_type": "markdown",
   "metadata": {},
   "source": [
    "Evaluation Module"
   ]
  },
  {
   "cell_type": "markdown",
   "metadata": {},
   "source": [
    "Actors\n",
    "- Project Core Team # If you jump ship from a project's core team that has distibuted tokens, you are not allowed to \n",
    "- Project Contributors # Which can just be the underlying community\n",
    "\n",
    "\n",
    "Configuration Space \n",
    "- Contributors can specialize in the way the market decides over time\n",
    "    - Mentors, DeBuggers, Dev Teams, Etc, the network of contributors can be diverse from market/competitive analysis, fundamental research, etc.\n",
    "\n",
    "Liquidity Module\n",
    "- Anybody can offer a liquid prediction market, whether it is traditional sports betting market making where the bookkeeper creates a market on what they are willing to buy/sell at what prices, but then this would just result in wanting to place limit orders on top of the underlying AMM.\n",
    "- Competition has an outcome oracle, that people can create liquidity providers on top of\n",
    "- Assume you're an you're both an LP and speculator, and believe team B will win. You would mint tokens, hold team B tokens, then provide liquidity for the other tokens. Why? Because, impermanent loss comes from losing the apprecaiting asset in exchange for the depreciating ones. So, you instead only provide liquidity for assets you are willing to use, and when you go and exchange your LP tokens, you can only GAIN an amount of team B tokens as a proportion of the pool. \n",
    "\n",
    "\n",
    "Initial liquidity provided by us:\n",
    "100 of each token. 4 teams.\n",
    "\n",
    "Mints 10 tokens of each team (A, B, C, D), $10 total.\n",
    "\n",
    "LP/Speculator thinks B will win.\n",
    "\n",
    "He holds on to team B tokens (which he got for 25 cents) and has two options for the rest:\n",
    "1. Sell them to the AMM\n",
    "2. Provide liquidity to the AMM\n",
    "\n",
    "Sell them to the AMM/Burn:\n",
    "- If sold to the AMM, they would be able to gain an increased amount of B tokens OR can burn them back for USD at the rates.\n",
    "    - Sold to the AMM: He goes to the AMM, sells all 30 other tokens in exchange for more B tokens. This will raise the price of B tokens (decrease B tokens pool liquidity), decrease the price of the other tokens (increasing their pool liquidity).\n",
    "    - Burned: First you end up selling to the AMM until you have an equal amount of all tokens, then can sell back that amount of equal tokens for the 1:1 exchange rate. This will raise the price of B tokens (decrease B tokens pool liquidity), decrease the price of the other tokens (increasing their pool liquidity).\n",
    "\n",
    "Provide Liquidity:\n",
    "- If providing liquidity: Deposit A,C,D tokens to the pool, increasing the ratio of those tokens.\n",
    "    - Now, there are 100 B tokens, 100 A tokens, 100 C tokens, and 100 D tokens in the pool.\n",
    "        - Deposit 10 D tokens, current weight of D in the pool is 1/4\n",
    "    - (1 - .25) = .75 * 10 = 7.5 (trade 7.5 D tokens to get all other assets)\n",
    "        - Decreasing the price of the D tokens and increasing the price of the other tokens.\n",
    "        - After the trade, I have 2.5 A, B, C, and D tokens, and the pool has 97.5 A, B, and C tokens.\n",
    "        - Then I deposit all tokens back now that they followed the original distribution before I wanted to provide liqudity, giving me 2.5 LP tokens and leaving the pool with 100 A,B, and C tokens, and 110 D tokens.\n",
    "            - So instead of getting 2.5 USD back from the 10 D tokens, I am getting 2.5 LP tokens, before that there was a total of 100 LP tokens, so now there is 102.5 LP tokens.\n",
    "\n",
    "LP cannot be speculators, because if you are a speculator you are looking for a $ outcome through the speculation -> I have belief A, and I want to get rewarded for it. If this is the case, you will use whatever mechanism allows you to speculate on that belief specifically and get rewarded for it in the most efficient way to do so. Being an AMM LP is not that, because LP's make money off of exchange/trading volume, not through speculation of the LPs themselves. Zoom out to traditional DEXes like UniSwap and Balancer, If I thought eth would crash, I would not go to a pool with eth in it and then be an LP for it, I would short eth. \n",
    "\n",
    "If a token becomes illiquid on our AMM, then anybody who believes that team may not win can mint all tokens, sell back that illiquid token to the exchange, and gain an amount of all other tokens. So $1 -> 1.X amount of all other tokens, besides the illiquid one. A token will only stay depleted and illiquid if they are the clear winners. But, since the price oracle itself is the AMM prediction market, this is what we want! We need slippage because we need price discovery. If someone wants to be a speculator and LP, all they have to do is buy/sell, which provides the liquidity. We can think of the initial LP initialization to be our gauge of price impact to prediction, if we places a trillion in the pool, it would take a lot of money to reflect someone's true probability, if we placed only 10 in the pool, we can only get to a certain level of granularity. Think of initial liqudiity provision os a trade-off between HD prediction and low-def prediction, the more HD we want it the more we have to spend on it.\n",
    "\n",
    "Speculators who want exact spot prices and to eat up orders can places limits by depositing USD value and specifying a probability (want to purchase token B if price drops to an 80% probability), if done openly this can then attract sellers who want to sell at that price\n",
    "\n",
    "\n"
   ]
  },
  {
   "cell_type": "markdown",
   "metadata": {},
   "source": [
    "Prediction Market Construction for Liquid Innovation Ecosystem Protocol:\n",
    "- Number of projects, N, known at construction\n",
    "- Each project, P, has a token, P_t\n",
    "- If project P wins the competition, with the competition outcome decided by an agreed upon Oracle, O, project P tokens (P_t) can be exchanged back to the Protocol at a rate of $1 per token (can be a stablecoin)\n",
    "- Liquidity Pool intialized with an amount n of each token\n",
    "\n",
    "\n",
    "Competition ends at mignight and the pool is closed, judging happens the next day:\n",
    "- Speculators and judges cannot be the same people, conflict of interest.\n",
    "\n",
    "\n",
    "Liquidity pool intializations scales how high-definition our prediction market oracle can be. So a philanthropy can set the low-definition setting, and anybody who wants to add liquidity can do so by depositing the current value ratio of the price curve and receiving their proportion in LP tokens that get a percentage of fees. \n",
    "\n",
    "If you want to buy token A you need to sell token B by construction (becaues the multiplication ties all the assets together), so as long as people believe in atleast two teams throughout the competition and assuming sufficient. Our AMM is not their to allow for huge wins/losses in speculation with whales, this can only happen if somebody else provides liquidity against them, in which case since this is a prediction market the liquidity needed to fill a large buy or sell order is in exact opposite of the other trade, meaning one will lose and the other win. So, anyone who has this liquidity and wants to provide it and has a belief, they would just make the exchange. Which is to say, liquidity providers are comfortable providing liqudity purely of the assets they don't want, such that anybody who trades that depletes that only can give them the assets they are interested in in return. Asuming some level of trading volume (depending on fee per trade. \n",
    "\n",
    "If you assume rational speculators who will act on ANY level of belief-aligned profit making opportunities, then the depth of liquidity doesn't matter for the market to reflect an accurate prediction (and this is our intended goal for our market, to be an accurate price oracle, not an ability for whales to make billions if they are correct (with other speculators losing billions, and if they do want to engage in that behavior, they can do so with limit orders)). \n",
    "\n",
    "The reason for increased depth would be if there is a minimum level of profit speculators would require to reflect a slight belief difference (\"not worth me trading against it if I only make $1\"). \n",
    "\n",
    "** the equation of importance here is how much $$ trade/profit opportunity exists here for any given level of percentage price difference. That is, if I want to change the probablity of any token, how much $$ do I need to trade into it, and how much money do I expect in return (on top of initial capital) if correct given I hold til the decision is made, or sell it to a willing buyer for at any probability percentrage level (token price level) above the max price I paid. If the profit making minimum in $$ terms is high (people not willing to trade unless they make $1,000 given nobody else is willing to take the other side). DEXes have to compete against eachother and promote deep liquidity because they are competing against other exchanges who will eat up liquidity given traders want to trade, we don't have that competition and if anybody wants to reflect prices different from the price they can. \n",
    "- So if percentage probabilities change drastically (which will happen at beginning), need less liquidity to be comfortable trading as the percentage delta will make the profits, \n",
    "    - but if probabilities don't change drastically AND we want MORE clarity about the differences reflected in the prediction speculator market (if two teams are competing and the price have been at 38% and 62% odds for awhile, and it is important for us to know if the true odds are more like 38.5% and 61.5%), then we will want more liquidity to be added in the market to incentivize people to spend that extra time to do the research and reflect their beliefs.\n",
    "\n",
    "More liquidity, higher definition. Less liquidity, lower definition. \n",
    "\n",
    "To be an LP, you CANNOT be a price speculator that has a belief the current prices will be drastically different than what the ending curve price will be (or the price at some time in the future when you plan on selling, after high volume and returns in fees to make the risk worth it). The LP/Price Speculator speculates prices will stay relatively the same and there will be enough volume traded to make the speculation worth it. \n",
    "- That is, if you believe the price curve is correct and there will be 2-sided trading volume at the current price curve range, you can be a liquidity provider.\n",
    "- If you believe the price curve is correct but there will not be enough volume around the price for a long enough time, which the terminal date could be considered this curve, then there is no point to add more liquidity. \n",
    "\n",
    "So, the protocol bootstraps a liquidity source that aims to achieve some sort of price curve discovery that reflects reality enough for others to be willing to provide liquidity to allow more definition within the trading. Liquidity concentration is good for curve stable coins because exactly this, they want to add high definition into a specific price range as a mechanism. Our mechanism naturally wants adjustments throughtout the volatile part of the competition (early stages), but then high defintion at the end when the competition is neck and neck between three teams and we want as much information as we can extract from this neck-to-neck race.\n",
    "- But if price stabilizes and there is a money making opportunity for liquidity providers, we can also provide that liquidity and make that money (given we have enough capital, but if this ends up pricing to a profit making protocol than we can do this forever =) ).\n",
    "- You want to provide the least amount of liquidity needed to bootstrap a relatively meaningful price distribution, then you increase liquidity over time to allow for low slippage trading during a time when the competition is settling on the top teams that are all competitive\n",
    "    - To gurantee prices throughout the entire probability curve during the competition, the initial/permanent/guaranteed liquidity provider for our competition  has to be comfortable knowing they are most likely shorting the asset that will appreciate in value and longing the assets that will depreciate in value (given the uncertainty at the start).\n",
    "    - The hope of any AMM is that for every buyer, there is a seller on the other side that simply may not be trading at the market at that time (to equalize ratio as soon as possible, locking in fees gained with the same initial deposit). So us adding liquidity should not be a response to no trading activity on one side of a token (for eaxample, team A will clearly win and keeps getting bought up, not a good time for us to add more liquidity for people to keep buying up A). So, the protocol (for prediction purposes) ONLY wants to add more liquidity to the AMM if there are buyers/sellers on both sides of a token, and the protocol wants to ZOOM IN to allow for probabilities in that range to have more decimals.\n",
    "\n",
    "Crystal Ball Protocol\n",
    "- Two token Market, 50/50 right now probability. I believe team A will win. I buy both tokens for $1. I hold A and then provide liqduidity by depositing B. If I am right, and team A does win and people reflect this in the market, then A tokens will be depleted from the pool and I'll be left with more B tokens, but that's what \n",
    "\n",
    "\n",
    "\n",
    "We have a limited asset market where all boats do not rise, only some do.\n",
    "\n",
    " The pros/cons of this is that you can gain a better return if your speculative belief is correct, and hedge given your speculative belief was incorrect (you make some fre).\n",
    "\n",
    "Statement: Assuming a speculator has a different belief than the current outcome curve has priced in, there always exists atleast one way that the speculator can change the price curve to reflect their beliefs such that if their beliefs were correct (defined as the post-action price curve being closer to the ending price curve than the pre-action price curve), they make a profit (with the amount of profit increasing the larger the difference between the pre-action and post-action price curves were). \n",
    "\n",
    "Proof:\n",
    "\n",
    "\n",
    "\n",
    "Proof by exhaustion:\n",
    "- Speculator has a belief that a token is undervalued\n",
    "- Speculator has a belief that a token is overvalued\n",
    "- Speculator has a belief that all tokens are perfectly valued \n",
    "    - Proof: "
   ]
  },
  {
   "cell_type": "markdown",
   "metadata": {},
   "source": [
    "Model out volatility over time to see the breakpoint, or the scenerios where money is made and money is lost. Given there is no clear winner, a clear winner, a set of clear winners.\n",
    "\n",
    "Find thresholds of profitability"
   ]
  },
  {
   "cell_type": "markdown",
   "metadata": {},
   "source": [
    "**\n",
    "Imagine a LP design that can dynamically threshold initial liquidity around ranges over time given enough 2-sided volume, but given a total one-sided whale move, cam adjust the curve back to full amount to provide the liquidity necessary to price the range of probabilities. "
   ]
  },
  {
   "cell_type": "code",
   "execution_count": 6,
   "metadata": {},
   "outputs": [
    {
     "name": "stdout",
     "output_type": "stream",
     "text": [
      "spot\n"
     ]
    }
   ],
   "source": []
  },
  {
   "cell_type": "markdown",
   "metadata": {},
   "source": [
    "The intial liquidity we provide can also be thought of as: \"how much are we willing to pay speculators to accurately price the ecosystem? and we provide a 24/7 available counter party to trade against to fund that payment\"\n",
    "\n",
    "What do I want to say about properties of the system? Every property I want to claim about the system I need a proof for.\n",
    "\n",
    "\n",
    "Summary of Protocol: The Liquid Innovation Accelerator Ecosystem Protocol is a modular, composable, and customizable mechanism that algorithmically allocates capital \n",
    "\n",
    "Using an initialized n-dimensional constant product AMM curve (Balancer curve):\n",
    "\n",
    "Assumptions:\n",
    "1. No additional transaction costs besides slippage\n",
    "2. No profit making minimum for speculation on their true beliefs\n",
    "3. Availability/engagement of economically rational speculators\n",
    "4. Availability/engagement of economically rational contributors w/ skills (skills, time, token amount/price, belief in project team)\n",
    "5. Availability/engagement of economically rational innovators/entrepreneurs/project leaders interested in addresing ecosystem topic \n",
    "6. Availbility of ecosystem construction funds willing to eat permanent loss given potential valid states of the protocol (philinthropic funders, public good funding funders).\n",
    "7. Trusted Outcome/Voting Oracle\n",
    "    - Proposed Community-Driven Implementation: Quadratic credits, Inverse quadratic payments to voters, Projects with the most votes win. Can either be winner-takes-all most voted, or projects can be funded in proportion to the quadratic distribution of credits.\n",
    "        - Assumption: verified community members that could benefit from the ecosystem topic, benefit-rational pareto-conservative (wants either the project that would benefit them to have a higher chance of existing in the world to benefit them, or wants to make money)\n",
    "\n",
    "Properties/Characteristics:\n",
    "1. Speculators with a belief on the price curve can act on that belief and make a profit if their belief are right\n",
    "2. The aggregation of all the speculators with beliefs results in a AMM prediction market that accurately reflects the engaged speculators' weighted beliefs on the outcome of the ecosystem\n",
    "3. Project tokens in the innovation ecosystem can be traded against the prediction market curve, adding liquidity for contributors during the competition and offloading risk to speculators, without speculator/contributor collusion arbitrage strategies depleting the protocol (social attacks could still work like shilling, etc., to pump/dump on traders, but on the protocol side nothing outside of our pre-determined bounded loss at construction).\n",
    "4. Contributors will work for a project given they believe it is worth it (have the skills and time necessary for a task, and willing to accept the token amount given (to price tokens in USD, they can look at prediction market for aggregated beliefs or they can use internal beliefs, OR they can be altruistic and work for the project anyway))\n",
    "5. Project teams will distribute their tokens throughout the competition to contributors or speculators (if a contributor wants USD, a project can sell their tokens to the curve and exchange it for USD, then give the USD to the contributor, flashTaskPayment/flashContributionPayment).\n",
    "6. Projects can join the competition at anytime given the team begins working on their project at declaration of project entering the ecosystem (speculators that minted coins (which is required to trade) receive their proportion of the new project tokens upon entrance of the new project).\n",
    "7. Projects can drop from the competition at anytime (treat it as a loss).\n",
    "\n",
    "\n",
    "Proofs of Properties\n",
    "1. Assuming no additional transaction costs besides slippage and no profit minimum for a speculator to engage in trading, a speculator with a belief about the current and future price distribution of the ecosystem's project tokens (which serves as a prediction market for the likelihood of different project's winning) can always act in such a way that allows them to profit from their beliefs (given their beliefs are true) (proofs from the individual perspective).\n",
    "    - Token(s) Overpriced:\n",
    "        - Sell Overpriced Tokens, Buy Underpriced Tokens\n",
    "    - Token(s) Underpriced:\n",
    "        - Buy Underpriced Tokens, Sell Overpriced Tokens\n",
    "    - Token(s) Perfectly Priced:\n",
    "        - One-Sided Volume: \n",
    "            - Limit Orders (Add Liquidity)\n",
    "        - Two-Sided Volume: \n",
    "            - LP Depositing (Add Liquidity)\n",
    "2. Assuming the availability/engagement of economically rational speculators, the prediction market will be able to accurately price in the speculators' weighted aggregated beliefs of the outcome of the competition given currently availble information, up until the liquidity limit (funding limit) (proof from the protocol perspective).\n",
    "    - If you want to fully represent everyone's beliefs at different size of engagement (measured in USD), need price sensitivity that allows for the total $ amount engaged to span the enture price curve (slippage, shallow-enough market).\n",
    "    - Our initial liquidity pool allocation is the amount of arbitrage opportunities we are willing to provide the market to attract speculators at that time (we can stage in liquidity provision, both to the speculator market and the ecosytem market, emulating funding ladders/stair-cases/venture funding)\n",
    "3. \n",
    "\n",
    "\n",
    "Cool Implementation Design:\n",
    "1. Defined duration when new projects can begin working before they declare entrance into the tokenized ecosystem, adding liquidity overtime to allow for price discovery at perceived lower losses than if we placed all of our capital at the beginning with an equal distribution price curve (funding staircase, series funding ladder (solves what I think Juan from PL is interested in)).\n",
    "2. Tasks = Impact Certificates (NFTs), Project Tokens = Defined fungibility/liquidity for impact certificates. (Value of proportion of project at time T a specific contribution made is determined by project team, not the funder, funders fund projects). Make impact certificates liquid through fungibility! \n",
    "3. Flexible protocol for traditional public goods funding, innovation/startup/technology accelerators, and communities/DAOs that want to create their own innovation ecosystems. For for-profit companies and protocols/Dapps, can create ways to secure tokens/equity in exchange for ecosystem token/funding access (Profitable Decentralized Startup Accelerator, maybe?)\n",
    "4. Reputation/resume/transcript system.\n",
    "\n",
    "Cool Differences/Improvements With The Liquid Innovation Ecosystem Protocol vs Traditional Innovation Acceleration Mechanisms (RFPs, Hackathons, Startup Accelerators)\n",
    "1. Continuous, Evolutionary, Bottom-Up, Market-Driven filtering of quality of projects by unique information inputs from diverse community of incentivized participants (project teams, contributors, speculators, community members) instead of a step-function, top-down, small panel of expert evaluator driven filtering mechanism.\n",
    "2. Allows for non-profit innovations to compete for contributor talent against for-profit innovations in a competitive market by giving non-profits tradable assets that are claims to realized/potential claims on future cashflow weighted against the projects future success (allowing for a more level playing field for initial innovation development within ecosystem)\n",
    "3. Financial capital committed to the protocol by the innovation accelerator can be leveraged by all interested innovators/contributors, not just the 50 companies that pass the application process out of 1,000 applicants (*cough* YCombinator). Inclusive! Scalable! Network Effects! Universal Basic (Innovation Building) Leverage! \n",
    "4. Protocol welcomes/caters/maps to various risk/reward profile of participants in the innovation ecosystem, welcoming both founders and non-founders/contributors to be involved in the early innovation development life cycle (Most hackathons, XPrize, Startup Accelerators focus on one type of risk/reward profile (the founding team, but this is inadequate as some will want to get rewarded for their contributions to a specific team but work for multiple and not commit to being a founder/leader after the competition)).  \n",
    "5. Incentivizes both voluntary ecosystem-wide competition at the idea level and voluntary ecosystem-wide collaboration at the implementation/execution level that is fluid and reflects the current state of the competition (this is how the real world works, feedback loops!)\n",
    "6. Incentivizes pumping information signals into the ecosystem throughout the competition whereas other innovation acceleration mechanisms are information silos until the very end (reason: information pumping is not incentivized in current mechanisms). \n",
    "7. Training ground for angel/seed investors (speculation), innovators/founders/team leads, and contributors of all sorts:\n",
    "    - developers, designers, business development, etc. \n",
    "    - Also, the dynamic of the contributors can be diverse and various coordination structure can arise: \n",
    "        - Dev teams can be contributor collectives, \n",
    "        - mentors can be incentivized to participate in the competition with their unique experitse, \n",
    "        - market/competitive/innovation analysts can charge people for access to their research against the competition.\n"
   ]
  },
  {
   "cell_type": "code",
   "execution_count": null,
   "metadata": {},
   "outputs": [],
   "source": []
  }
 ],
 "metadata": {
  "kernelspec": {
   "display_name": "Python 3.9.7 ('base')",
   "language": "python",
   "name": "python3"
  },
  "language_info": {
   "codemirror_mode": {
    "name": "ipython",
    "version": 3
   },
   "file_extension": ".py",
   "mimetype": "text/x-python",
   "name": "python",
   "nbconvert_exporter": "python",
   "pygments_lexer": "ipython3",
   "version": "3.9.7"
  },
  "orig_nbformat": 4,
  "vscode": {
   "interpreter": {
    "hash": "92682f8464e9044ba142483ddeefd87e1deb5806fbb1da5a3f470e5bd39935be"
   }
  }
 },
 "nbformat": 4,
 "nbformat_minor": 2
}
