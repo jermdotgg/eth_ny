{
 "cells": [
  {
   "cell_type": "code",
   "execution_count": 1,
   "metadata": {},
   "outputs": [
    {
     "name": "stdout",
     "output_type": "stream",
     "text": [
      "hello eth new york 2022!\n"
     ]
    }
   ],
   "source": [
    "print (\"hello eth new york 2022!\")"
   ]
  },
  {
   "cell_type": "markdown",
   "metadata": {},
   "source": [
    "Innovation Ecosystem Module"
   ]
  },
  {
   "cell_type": "markdown",
   "metadata": {},
   "source": [
    "Liquidity Module"
   ]
  },
  {
   "cell_type": "markdown",
   "metadata": {},
   "source": [
    "Evaluation Module"
   ]
  },
  {
   "cell_type": "code",
   "execution_count": 5,
   "metadata": {},
   "outputs": [],
   "source": [
    "# Make a class called \"Speculator\" that has the following attributes: a unique id, a list of stocks, and a list of positions.\n",
    "# The \"Speculator\" class should have the following methods:\n",
    "# 1. __init__: initialize the id, stocks, and positions attributes\n",
    "# 2. add_stock: add a stock to the list of stocks\n",
    "# 3. add_position: add a position to the list of positions\n",
    "# 4. get_positions: return the list of positions\n",
    "# 5. get_stocks: return the list of stocks\n",
    "# 6. get_id: return the id\n",
    "# 7. get_positions_by_stock: return the list of positions for a stock\n",
    "\n",
    "class Speculator:\n",
    "    def __init__(self, id):\n",
    "        self.id = id\n",
    "        self.stocks = []\n",
    "        self.positions = []\n",
    "\n",
    "    def add_stock(self, stock):\n",
    "        self.stocks.append(stock)\n",
    "\n",
    "    def add_position(self, position):\n",
    "        self.positions.append(position)\n",
    "\n",
    "    def get_positions(self):\n",
    "        return self.positions\n",
    "\n",
    "    def get_stocks(self):\n",
    "        return self.stocks\n",
    "\n",
    "    def get_id(self):\n",
    "        return self.id\n",
    "\n",
    "    def get_positions_by_stock(self, stock):\n",
    "        return [position for position in self.positions if position.stock == stock]\n",
    "\n",
    "# define positions variable\n",
    "positions = []\n",
    "    "
   ]
  },
  {
   "cell_type": "markdown",
   "metadata": {},
   "source": [
    "Actors\n",
    "- Project Core Team # If you jump ship from a project's core team that has distibuted tokens, you are not allowed to \n",
    "- Project Contributors # Which can just be the underlying community\n",
    "\n",
    "\n",
    "Configuration Space \n",
    "- Contributors can specialize in the way the market decides over time\n",
    "    - Mentors, DeBuggers, Dev Teams, Etc, the network of contributors can be diverse from market/competitive analysis, fundamental research, etc.\n",
    "\n",
    "Liquidity Module\n",
    "- Anybody can offer a liquid prediction market, whether it is traditional sports betting market making where the bookkeeper creates a market on what they are willing to buy/sell at what prices, but then this would just result in wanting to place limit orders on top of the underlying AMM.\n",
    "- Competition has an outcome oracle, that people can create liquidity providers on top of\n",
    "- Assume you're an you're both an LP and speculator, and believe team B will win. You would mint tokens, hold team B tokens, then provide liquidity for the other tokens. Why? Because, impermanent loss comes from losing the apprecaiting asset in exchange for the depreciating ones. So, you instead only provide liquidity for assets you are willing to use, and when you go and exchange your LP tokens, you can only GAIN an amount of team B tokens as a proportion of the pool. \n",
    "\n",
    "\n",
    "Initial liquidity provided by us:\n",
    "100 of each token. 4 teams.\n",
    "\n",
    "Mints 10 tokens of each team (A, B, C, D), $10 total.\n",
    "\n",
    "LP/Speculator thinks B will win.\n",
    "\n",
    "He holds on to team B tokens (which he got for 25 cents) and has two options for the rest:\n",
    "1. Sell them to the AMM\n",
    "2. Provide liquidity to the AMM\n",
    "\n",
    "Sell them to the AMM/Burn:\n",
    "- If sold to the AMM, they would be able to gain an increased amount of B tokens OR can burn them back for USD at the rates.\n",
    "    - Sold to the AMM: He goes to the AMM, sells all 30 other tokens in exchange for more B tokens. This will raise the price of B tokens (decrease B tokens pool liquidity), decrease the price of the other tokens (increasing their pool liquidity).\n",
    "    - Burned: First you end up selling to the AMM until you have an equal amount of all tokens, then can sell back that amount of equal tokens for the 1:1 exchange rate. This will raise the price of B tokens (decrease B tokens pool liquidity), decrease the price of the other tokens (increasing their pool liquidity).\n",
    "\n",
    "Provide Liquidity:\n",
    "- If providing liquidity: Deposit A,C,D tokens to the pool, increasing the ratio of those tokens.\n",
    "    - Now, there are 100 B tokens, 100 A tokens, 100 C tokens, and 100 D tokens in the pool.\n",
    "        - Deposit 10 D tokens, current weight of D in the pool is 1/4\n",
    "    - (1 - .25) = .75 * 10 = 7.5 (trade 7.5 D tokens to get all other assets)\n",
    "        - Decreasing the price of the D tokens and increasing the price of the other tokens.\n",
    "        - After the trade, I have 2.5 A, B, C, and D tokens, and the pool has 97.5 A, B, and C tokens.\n",
    "        - Then I deposit all tokens back now that they followed the original distribution before I wanted to provide liqudity, giving me 2.5 LP tokens and leaving the pool with 100 A,B, and C tokens, and 110 D tokens.\n",
    "            - So instead of getting 2.5 USD back from the 10 D tokens, I am getting 2.5 LP tokens, before that there was a total of 100 LP tokens, so now there is 102.5 LP tokens.\n",
    "\n",
    "LP cannot be speculators, because if you are a speculator you are looking for a $ outcome through the speculation -> I have belief A, and I want to get rewarded for it. If this is the case, you will use whatever mechanism allows you to speculate on that belief specifically and get rewarded for it in the most efficient way to do so. Being an AMM LP is not that, because LP's make money off of exchange/trading volume, not through speculation of the LPs themselves. Zoom out to traditional DEXes like UniSwap and Balancer, If I thought eth would crash, I would not go to a pool with eth in it and then be an LP for it, I would short eth. \n",
    "\n",
    "If a token becomes illiquid on our AMM, then anybody who believes that team may not win can mint all tokens, sell back that illiquid token to the exchange, and gain an amount of all other tokens. So $1 -> 1.X amount of all other tokens, besides the illiquid one. A token will only stay depleted and illiquid if they are the clear winners. But, since the price oracle itself is the AMM prediction market, this is what we want! We need slippage because we need price discovery. If someone wants to be a speculator and LP, all they have to do is buy/sell, which provides the liquidity. We can think of the initial LP initialization to be our gauge of price impact to prediction, if we places a trillion in the pool, it would take a lot of money to reflect someone's true probability, if we placed only 10 in the pool, we can only get to a certain level of granularity. Think of initial liqudiity provision os a trade-off between HD prediction and low-def prediction, the more HD we want it the more we have to spend on it.\n",
    "\n",
    "Speculators who want exact spot prices and to eat up orders can places limits by depositing USD value and specifying a probability (want to purchase token B if price drops to an 80% probability), if done openly this can then attract sellers who want to sell at that price\n",
    "\n",
    "\n"
   ]
  },
  {
   "cell_type": "markdown",
   "metadata": {},
   "source": [
    "Prediction Market Construction for Liquid Innovation Ecosystem Protocol:\n",
    "- Number of projects, N, known at construction\n",
    "- Each project, P, has a token, P_t\n",
    "- If project P wins the competition, with the competition outcome decided by an agreed upon Oracle, O, project P tokens (P_t) can be exchanged back to the Protocol at a rate of $1 per token (can be a stablecoin)\n",
    "- Liquidity Pool intialized with an amount n of each token\n",
    "\n",
    "\n",
    "Competition ends at mignight and the pool is closed, judging happens the next day:\n",
    "- Speculators and judges cannot be the same people, conflict of interest.\n",
    "\n",
    "\n",
    "Liquidity pool intializations scales how high-definition our prediction market oracle can be. So a philanthropy can set the low-definition setting, and anybody who wants to add liquidity can do so by depositing the current value ratio of the price curve and receiving their proportion in LP tokens that get a percentage of fees. \n",
    "\n",
    "If you want to buy token A you need to sell token B by construction (becaues the multiplication ties all the assets together), so as long as people believe in atleast two teams throughout the competition and assuming sufficient. Our AMM is not their to allow for huge wins/losses in speculation with whales, this can only happen if somebody else provides liquidity against them, in which case since this is a prediction market the liquidity needed to fill a large buy or sell order is in exact opposite of the other trade, meaning one will lose and the other win. So, anyone who has this liquidity and wants to provide it and has a belief, they would just make the exchange. Which is to say, liquidity providers are comfortable providing liqudity purely of the assets they don't want, such that anybody who trades that depletes that only can give them the assets they are interested in in return. Asuming some level of trading volume (depending on fee per trade. \n",
    "\n",
    "If you assume rational speculators who will act on ANY level of belief-aligned profit making opportunities, then the depth of liquidity doesn't matter for the market to reflect an accurate prediction (and this is our intended goal for our market, to be an accurate price oracle, not an ability for whales to make billions if they are correct (with other speculators losing billions, and if they do want to engage in that behavior, they can do so with limit orders)). \n",
    "\n",
    "The reason for increased depth would be if there is a minimum level of profit speculators would require to reflect a slight belief difference (\"not worth me trading against it if I only make $1\"). \n",
    "\n",
    "** the equation of importance here is how much $$ trade/profit opportunity exists here for any given level of percentage price difference. That is, if I want to change the probablity of any token, how much $$ do I need to trade into it, and how much money do I expect in return (on top of initial capital) if correct given I hold til the decision is made, or sell it to a willing buyer for at any probability percentrage level (token price level) above the max price I paid. If the profit making minimum in $$ terms is high (people not willing to trade unless they make $1,000 given nobody else is willing to take the other side). DEXes have to compete against eachother and promote deep liquidity because they are competing against other exchanges who will eat up liquidity given traders want to trade, we don't have that competition and if anybody wants to reflect prices different from the price they can. \n",
    "\n",
    "We have a limited asset market where all boats do not rise, only some do.\n",
    "\n",
    " The pros/cons of this is that you can gain a better return if your speculative belief is correct, and hedge given your speculative belief was incorrect (you make some fre).\n",
    "\n",
    "Statement: Assuming a speculator has a different belief than the current outcome curve has priced in, there always exists atleast one way that the speculator can change the price curve to reflect their beliefs such that if their beliefs were correct (defined as the post-action price curve being closer to the ending price curve than the pre-action price curve), they make a profit (with the amount of profit increasing the larger the difference between the pre-action and post-action price curves were). \n",
    "\n",
    "Proof:\n",
    "\n",
    "\n",
    "\n",
    "Proof by exhaustion:\n",
    "- Speculator has a belief that a token is undervalued\n",
    "- Speculator has a belief that a token is overvalued\n",
    "- Speculator has a belief that all tokens are perfectly valued \n",
    "    - Proof: "
   ]
  },
  {
   "cell_type": "code",
   "execution_count": 6,
   "metadata": {},
   "outputs": [
    {
     "name": "stdout",
     "output_type": "stream",
     "text": [
      "spot\n"
     ]
    }
   ],
   "source": []
  },
  {
   "cell_type": "code",
   "execution_count": null,
   "metadata": {},
   "outputs": [],
   "source": []
  }
 ],
 "metadata": {
  "kernelspec": {
   "display_name": "Python 3.9.7 ('base')",
   "language": "python",
   "name": "python3"
  },
  "language_info": {
   "codemirror_mode": {
    "name": "ipython",
    "version": 3
   },
   "file_extension": ".py",
   "mimetype": "text/x-python",
   "name": "python",
   "nbconvert_exporter": "python",
   "pygments_lexer": "ipython3",
   "version": "3.9.7"
  },
  "orig_nbformat": 4,
  "vscode": {
   "interpreter": {
    "hash": "92682f8464e9044ba142483ddeefd87e1deb5806fbb1da5a3f470e5bd39935be"
   }
  }
 },
 "nbformat": 4,
 "nbformat_minor": 2
}
